{
 "cells": [
  {
   "cell_type": "markdown",
   "metadata": {},
   "source": [
    "# Paper Description / Info\n",
    "\n",
    "<br>\n",
    "\n",
    "\"We show how any dataset of any modality (time-series, images, sound...) can be approximated by a well-behaved (continuous, differentiable...) scalar function with a single real-valued parameter. Building upon elementary concepts from chaos theory, we adopt a pedagogical approach demonstrating how to adjust this parameter in order to achieve arbitrary precision fit to all samples of the data. Targeting an audience of data scientists with a taste for the curious and unusual, the results presented here expand on previous similar observations regarding expressiveness power and generalization of machine learning models.\"\n",
    "\n",
    "Full info and details can be found here: https://arxiv.org/pdf/1904.12320.pdf\n",
    "\n",
    "## Main Highlights\n",
    "\n",
    "The paper shows that any data set can fit into a single numerical value using a simple logistic decoder function implemented and shown below:\n"
   ]
  },
  {
   "cell_type": "code",
   "execution_count": 77,
   "metadata": {},
   "outputs": [],
   "source": [
    "# mpmath is a free BSD-licensed library for real and complex floating-point arithmetic with arbitrary precision.\n",
    "from mpmath import sin, asin, sqrt\n",
    "\n",
    "def two_to_the_power_of( num ):\n",
    "    return 2 ** num\n",
    "\n",
    "def squared( num ):\n",
    "    return num ** 2\n",
    "\n",
    "def logistic_decoder ( \n",
    "    # The real-valued number to be learned / generated from the data\n",
    "    real_num\n",
    "    # A series of integer values\n",
    "    , x\n",
    "    # The accuracy metric is a constant which controls our accuracy\n",
    "    , accuracy_metric = 12\n",
    "):\n",
    "        \n",
    "    return float(\n",
    "        squared(\n",
    "            sin( \n",
    "                two_to_the_power_of(x * accuracy_metric) * asin(sqrt(real_num))\n",
    "            )\n",
    "        )\n",
    "    )\n"
   ]
  },
  {
   "cell_type": "markdown",
   "metadata": {},
   "source": [
    "All the information produced by this algorithm will be directly encoded in a real-valued decimal number (called decimal_num above), without any compression or learning having to take place! \n",
    "\n",
    "The paper infers that since our information can be encoded into an real number which contains an infinite number of decimals, we can fit an infinite amount of information within it!! \n",
    "\n",
    "Before we dive into the full details and implementation of the algorithm, let's go over a few key building blocks which we'll need in order to fully understand how it works."
   ]
  },
  {
   "cell_type": "markdown",
   "metadata": {},
   "source": [
    "## Arithmetic Coding\n",
    "  \n",
    "Let's suppose we have a stream of the symbols: a, e, r, s and t.\n",
    "\n",
    "Their probability is represented by this table:\n",
    "\n",
    "\n",
    "|  Symbol      |  a        |  e        |  r        |  s        |   t        |\n",
    "|  :----       |  :-----:  |  :-----:  |  :-----:  |  :-----:  |     ----:  |\n",
    "|  Probability |  0.3      |  0.3      |  0.15     |  0.05     |   0.2      |\n",
    "\n",
    "With this table in mind, we can build ranges containing all of the possible characters sorted by the most frequent to least, as illustrated below:\n",
    "\n",
    "![arithmetic-coding-example-1](imgs\\arithmetic-coding-example-1.jpg)"
   ]
  },
  {
   "cell_type": "markdown",
   "metadata": {},
   "source": [
    "As an example, let's encode the string 'eat.' \n",
    "\n",
    "First, we pick the first symbol ('e') which is located within the sub-range of 0.3 to 0.6. \n",
    "\n",
    "We then take this sub-range and split it into segments using the same proportions we used before:\n",
    "\n",
    "![arithmetic-coding-example-2](imgs\\arithmetic-coding-example-2.jpg)"
   ]
  },
  {
   "cell_type": "markdown",
   "metadata": {},
   "source": [
    "Next, we take the second symbol ('a') which will be located within the new sub-range (0.3 to 0.39). \n",
    "\n",
    "Finally, we take our last symbol t, and we repeat the same process again to get the last sub-range (0.354 to 0.372).\n",
    "\n",
    "![arithmetic-coding-example-3](imgs\\arithmetic-coding-example-3.jpg)"
   ]
  },
  {
   "cell_type": "markdown",
   "metadata": {},
   "source": [
    "We just need to pick a number within the last subrange 0.354 to 0.372 and we're done! Let's choose 0.36. With this number, we'll be able to recover our original 'eat' stream!\n",
    "\n",
    "If you think about it, it's like if we were drawing a line within ranges of ranges to encode our stream:\n",
    "\n",
    "![arithmetic-coding-example-4](imgs\\arithmetic-coding-example-4.jpg)\n",
    "\n",
    "The reverse process of decoding is fairly easy as well. All we have to do it to take our encoded decimal (~0.36) and using our  original range checks, we should be able to re-construct our original string.\n",
    "\n",
    "Full credit for the above explanation and images go to [Leandro Moreira](https://github.com/) and the full write up can be found using the link below:\n",
    "\n",
    "https://github.com/leandromoreira/digital_video_introduction#arithmetic-coding\n"
   ]
  },
  {
   "attachments": {},
   "cell_type": "markdown",
   "metadata": {},
   "source": [
    "## Fixed point binary representation\n",
    "\n",
    "\n",
    "\n",
    "Fixed point binary representation is very similar to the arithmetic coding concept we demoed above, except that instead of assigning characters to probability ranges, our numbers or characters are assigned to infinitely divisible binary real ranges. \n",
    "\n",
    "To put it more formally: each value is encoded into a set of binary coefficients (i.e. variables belonging to either 0 or 1), with each coefficient being paired to a weight of 1 / 2<sup>i</sup> for each coefficient a<sub>i</sub> as illustrated below:\n",
    "\n",
    "<br>\n",
    "\n",
    "<img src=\"imgs\\binary-coefficient-illustration.jpg\" alt=\"binary-coefficient-illustration\" width=\"800\"/>\n",
    "\n",
    "<br>"
   ]
  },
  {
   "attachments": {},
   "cell_type": "markdown",
   "metadata": {},
   "source": [
    "Converting the above binary representation is accomplished by evaluating the infinite sum expression:\n",
    "\n",
    "<img src=\"imgs\\infinite-sum-expression-formula.jpg\" alt=\"infinite-sum-expression\" width=\"300\"/>\n",
    "\n"
   ]
  },
  {
   "cell_type": "markdown",
   "metadata": {},
   "source": [
    "In our arithmetic coding example, we assigned a specific range to each character within our alphabet. Here, we are doing things a bit differently. Instead of assigning our ranges according to the alphabet probability distribution, we simply divide up our space into equal length ranges. After deciding on how many ranges (and thus the precision) we want, we encode our binary value within this range. We proceed with continually halving our space again to encode the next value.\n",
    "\n",
    "Using the above methodology, we still end up with a 'probability space' which equates to 1:\n",
    "\n",
    "<img src=\"imgs/One-as-an-infinite-sum.jpg\" alt=\"One as an infinite sum\" width=\"400\"/>\n",
    "\n",
    "We do have one major issue though. In our original description, we assume that we can have infinite precision! \n",
    "\n",
    "Obviously, existing data solutions wouldn't allow us to divide our space into an infinite range of values. \n",
    "\n",
    "To account for this, our original function has an 'accuracy metric' variable which controls the number of ranges (and thus the precision) that we have to work with within each unit interval:"
   ]
  },
  {
   "cell_type": "code",
   "execution_count": 78,
   "metadata": {},
   "outputs": [],
   "source": [
    "def logistic_decoder ( \n",
    "    real_num\n",
    "    , x\n",
    "    # The accuracy metric below controls the discretization of each unit interval. In the below example, \n",
    "    # we set thedefault to 8, which means that we will divide each sub-space into 8 uniform locations.\n",
    "    , accuracy_metric = 8\n",
    "):\n",
    "    return float(sin(2 ** (x * accuracy_metric) * asin(sqrt(real_num))) ** 2)"
   ]
  },
  {
   "attachments": {},
   "cell_type": "markdown",
   "metadata": {},
   "source": [
    "The paper shows an example of using an accuracy metric of 8 and what that 8-bit expansion of an interval between 0 and 1 would look like:\n",
    "\n",
    "<img src=\"imgs\\eight-bit-precision-illustration.jpg\" alt=\"eight-bit-precision-illustration\"/>\n"
   ]
  },
  {
   "cell_type": "markdown",
   "metadata": {},
   "source": [
    "Once again, we encode our data using a large enough accuracy metric (which divides each of our sub-spaces up into equally spaced intervals) and we continue on by halving each sub-space and continuing to encode the rest of our data within each half-space. We then add all of these results up to produce a decimal number between 0 and 1! \n",
    "\n",
    "This process is very similar to our original arithmetic coding example, albeit the methodology we use in encoding our information is a lot more mathematically beautiful!!"
   ]
  },
  {
   "cell_type": "markdown",
   "metadata": {},
   "source": [
    "## Chaos Theory and Dyadic Transformations\n",
    "\n",
    "Here, the paper goes on to describe a one-dimensional discrete dynamical system known as a \"dyadic transformation.\" \n",
    "\n",
    "Given a variable located between (0, 1) at time step t, its evolution at time step t + 1 is defined by:\n"
   ]
  },
  {
   "cell_type": "code",
   "execution_count": 79,
   "metadata": {},
   "outputs": [],
   "source": [
    "def two_to_the_power_of( num ):\n",
    "    return 2 ** num\n",
    "\n",
    "def mod_one( num ):\n",
    "    return num % 1\n",
    "\n",
    "def dyadic_decoder( real_num, time_step, accuracy_metric ):\n",
    "    return mod_one(\n",
    "        two_to_the_power_of( time_step * accuracy_metric ) * real_num\n",
    "    )"
   ]
  },
  {
   "attachments": {},
   "cell_type": "markdown",
   "metadata": {},
   "source": [
    "The paper goes on and explains what the above transformation does by showing that the dynamic decoder in its binary form: the multiplication by 2 can be interpreted as a simple shift in the whole bit sequence of our real number parameter in the leftwise direction. \n",
    "\n",
    "Once again, our real_num parameter can be illustrated using the diagram below:\n",
    "\n",
    "<img src=\"imgs\\binary-coefficient-illustration.jpg\" alt=\"binary-coefficient-illustration\" width=\"900\"/>"
   ]
  },
  {
   "attachments": {},
   "cell_type": "markdown",
   "metadata": {},
   "source": [
    "Multiplying by 2 shifts the bit sequence to the left by one, and the module operation ensures that every bit going over to the left-side of the radix point gets turned into a 0. We end up with the next set of encoded values to work with in our sequence. \n",
    "\n",
    "The whole operation is illustrated using the diagram below:\n",
    "\n",
    "<br>\n",
    "\n",
    "<img src=\"imgs\\bit-shift-illustration.jpg\" alt=\"bit-shift-illustration\"/>\n"
   ]
  },
  {
   "cell_type": "markdown",
   "metadata": {},
   "source": [
    "As a note, the paper also talks about why the above bit shifting transformations lead to chaotic dynamics: within each iteration, we lose the most significant bits of information, and we thus end up with a series of random bits which mostly depend on its least significant components! This is one of the key characteristics in many chaotic systems!"
   ]
  },
  {
   "attachments": {},
   "cell_type": "markdown",
   "metadata": {},
   "source": [
    "## Recap\n",
    "\n",
    "Once again, the main idea is to:\n",
    "\n",
    "1. Start by encoding all the data values '(x0, x1, x2, x3, ... xn)' into their binary representation truncated to the first r significant bits:\n",
    "\n",
    "<br>\n",
    "\n",
    "<img src=\"imgs\\simple-recap-1.jpg\" alt=\"simple-recap-1\" width=\"800\"/>\n",
    "\n",
    "<br>"
   ]
  },
  {
   "attachments": {},
   "cell_type": "markdown",
   "metadata": {},
   "source": [
    "2. We then concatenate all of our data samples together to flatten the data set into a long binary string (composed of n * r bits):\n",
    "\n",
    "<br>\n",
    "\n",
    "<img src=\"imgs\\simple-recap-2.jpg\" alt=\"simple-recap-2\"/>\n",
    "\n",
    "<br>"
   ]
  },
  {
   "cell_type": "markdown",
   "metadata": {},
   "source": [
    "Let's walk through some code which demonstrates the power of the algorithm described in the paper.\n",
    "\n",
    "First, let's quickly show the methodology we're going to use in creating a random dataset composed of 100 data points:"
   ]
  },
  {
   "cell_type": "code",
   "execution_count": 80,
   "metadata": {},
   "outputs": [
    {
     "name": "stdout",
     "output_type": "stream",
     "text": [
      "DATA:  [0.03142919 0.63641041 0.31435598 0.50857069 0.90756647 0.24929223\n",
      " 0.41038292 0.75555114 0.22879817 0.07697991 0.28975145 0.16122129\n",
      " 0.92969765 0.80812038 0.63340376 0.87146059 0.80367208 0.18657006\n",
      " 0.892559   0.53934224 0.80744016 0.8960913  0.31800347 0.11005192\n",
      " 0.22793516 0.42710779 0.81801477 0.86073058 0.00695213 0.5107473\n",
      " 0.417411   0.22210781 0.11986537 0.33761517 0.9429097  0.32320293\n",
      " 0.51879062 0.70301896 0.3636296  0.97178208 0.96244729 0.2517823\n",
      " 0.49724851 0.30087831 0.28484049 0.03688695 0.60956433 0.50267902\n",
      " 0.05147875 0.27864646 0.90826589 0.23956189 0.14489487 0.48945276\n",
      " 0.98565045 0.24205527 0.67213555 0.76161962 0.23763754 0.72821635\n",
      " 0.36778313 0.63230583 0.63352971 0.53577468 0.09028977 0.8353025\n",
      " 0.32078006 0.18651851 0.04077514 0.59089294 0.67756436 0.01658783\n",
      " 0.51209306 0.22649578 0.64517279 0.17436643 0.69093774 0.38673535\n",
      " 0.93672999 0.13752094 0.34106635 0.11347352 0.92469362 0.87733935\n",
      " 0.25794163 0.65998405 0.8172222  0.55520081 0.52965058 0.24185229\n",
      " 0.09310277 0.89721576 0.90041806 0.63310146 0.33902979 0.34920957\n",
      " 0.72595568 0.89711026 0.88708642 0.77987555]\n"
     ]
    }
   ],
   "source": [
    "import numpy as np\n",
    "\n",
    "NUM_DATA_POINTS = 100\n",
    "DATA = np.random.uniform(0, 1, NUM_DATA_POINTS)\n",
    "\n",
    "print('DATA: ', str(DATA))"
   ]
  },
  {
   "cell_type": "markdown",
   "metadata": {},
   "source": [
    "Next, we show the rest of our code demoing both the encoding and decoding functionality:"
   ]
  },
  {
   "cell_type": "code",
   "execution_count": 81,
   "metadata": {},
   "outputs": [
    {
     "name": "stdout",
     "output_type": "stream",
     "text": [
      "DATA:  [0.37454012 0.95071431 0.73199394 0.59865848 0.15601864 0.15599452\n",
      " 0.05808361 0.86617615 0.60111501 0.70807258 0.02058449 0.96990985\n",
      " 0.83244264 0.21233911 0.18182497 0.18340451 0.30424224 0.52475643\n",
      " 0.43194502 0.29122914 0.61185289 0.13949386 0.29214465 0.36636184\n",
      " 0.45606998 0.78517596 0.19967378 0.51423444 0.59241457 0.04645041\n",
      " 0.60754485 0.17052412 0.06505159 0.94888554 0.96563203 0.80839735\n",
      " 0.30461377 0.09767211 0.68423303 0.44015249 0.12203823 0.49517691\n",
      " 0.03438852 0.9093204  0.25877998 0.66252228 0.31171108 0.52006802\n",
      " 0.54671028 0.18485446 0.96958463 0.77513282 0.93949894 0.89482735\n",
      " 0.59789998 0.92187424 0.0884925  0.19598286 0.04522729 0.32533033\n",
      " 0.38867729 0.27134903 0.82873751 0.35675333 0.28093451 0.54269608\n",
      " 0.14092422 0.80219698 0.07455064 0.98688694 0.77224477 0.19871568\n",
      " 0.00552212 0.81546143 0.70685734 0.72900717 0.77127035 0.07404465\n",
      " 0.35846573 0.11586906 0.86310343 0.62329813 0.33089802 0.06355835\n",
      " 0.31098232 0.32518332 0.72960618 0.63755747 0.88721274 0.47221493\n",
      " 0.11959425 0.71324479 0.76078505 0.5612772  0.77096718 0.4937956\n",
      " 0.52273283 0.42754102 0.02541913 0.10789143]\n",
      "------------------------------------------------------------------------------------------------------------------------\n",
      "BINARY REPRESENTATION:  0101111111111100110110111011011001100101001001111100100111110000111011110111011010011001111011010101000001010111111000011101010100001101100100101110100010111011010011011110000110010110111010010010101010011100100010001110010010101101011101110111010011110010010000110011001000001110100101111000001011111001101110001010111000010000101111001011111101110011001110110100110111000110010010101111000111000010000111110001111110110000100011111010001101000010001010100110010011111110000101001000101111001011110111111000001100011001111100001011100101001001100100111010111100010110100011001000000010111001010011010110001110010001010111010100000101101101010001111110001010110010010000110011010100010011001111110010110001011000110010110000000101110100001110110100111011101010110001010100010010110101101111000111011011011100111001111110010101001000010000010100111110010100110010111010111010001100111000110001111000110001111010101101101011000010111000111110110001010101111110011000010111011011010100000110100001101110\n",
      "------------------------------------------------------------------------------------------------------------------------\n",
      "DECIMAL REPRESENTATION:  0.374952060728133278760170196310735293291081903142980148057929656397037647288223026311738097330327981118624243447383643122930344088173219983630186637705892765830553150081407617171590658927971722194197400529994354777866560814721558658986016296002763599976576251913208056796367553830286188635906279494023\n",
      "------------------------------------------------------------------------------------------------------------------------\n",
      "DECODED VALUES:  [0.37495206 0.95091019 0.73203006 0.59878459 0.15542513 0.15533053\n",
      " 0.05846272 0.86582156 0.60127737 0.70802877 0.0214556  0.9705393\n",
      " 0.83223837 0.21209162 0.18181925 0.18291428 0.30422347 0.52483586\n",
      " 0.4319254  0.29161276 0.61146383 0.13895737 0.29235025 0.36665705\n",
      " 0.45682163 0.78535129 0.19972095 0.51424985 0.59184228 0.04649179\n",
      " 0.60758788 0.16998572 0.06538006 0.94918519 0.96563273 0.80791387\n",
      " 0.30380696 0.09832424 0.68402302 0.43957185 0.1215773  0.49515143\n",
      " 0.0350678  0.90943209 0.25845939 0.66241409 0.31203131 0.52006453\n",
      " 0.54607961 0.1855171  0.96950716 0.77533235 0.94032726 0.89511578\n",
      " 0.59855565 0.92098445 0.0880814  0.19535668 0.04523982 0.32557513\n",
      " 0.38893683 0.27131687 0.82847336 0.35671953 0.28080286 0.54213028\n",
      " 0.14140804 0.80183123 0.0751827  0.98708172 0.77167798 0.19824773\n",
      " 0.0056798  0.81611989 0.70676686 0.72926814 0.77057968 0.0735923\n",
      " 0.35851179 0.11607706 0.86291345 0.62336928 0.33014041 0.06378014\n",
      " 0.31086419 0.32493175 0.73011483 0.63758514 0.88717949 0.47179672\n",
      " 0.11983753 0.71363407 0.76129033 0.56129979 0.77098992 0.49367469\n",
      " 0.52287772 0.42678271 0.02549553 0.10742188]\n"
     ]
    }
   ],
   "source": [
    "from functools import reduce\n",
    "from mpmath import mp, power\n",
    "import numpy as np\n",
    "\n",
    "PRECISION = 10\n",
    "\n",
    "# Seed value:\n",
    "SEED = 42\n",
    "np.random.seed( SEED )\n",
    "\n",
    "def print_separator( num_dashes = 120):\n",
    "    print( '-' * num_dashes )\n",
    "\n",
    "# First, lets create a dataset composed of random data points:\n",
    "NUM_DATA_POINTS = 100\n",
    "DATA = np.random.uniform(0, 1, NUM_DATA_POINTS)\n",
    "\n",
    "# Mpmath uses a global working precision, so we calculate the required precision we need to work with\n",
    "# and set it to an appropriate value:\n",
    "MP_PRECISION = NUM_DATA_POINTS * PRECISION\n",
    "mp.prec = MP_PRECISION\n",
    "\n",
    "print(\"DATA: \", str(DATA))\n",
    "print_separator()\n",
    "\n",
    "# Functions which we're going to use to encode and decode our data:\n",
    "\n",
    "def mod_one( num ):\n",
    "    return num % 1\n",
    "\n",
    "def dyadic_map( x ):\n",
    "    return mod_one(2 * x)\n",
    "\n",
    "def two_to_the_power_of(num):\n",
    "    return power(2, num)\n",
    "\n",
    "def decimal_to_binary( real_num, precision = PRECISION):\n",
    "\n",
    "    def convert_to_binary_string(num):\n",
    "        return '0' if num < 0.5 else '1'\n",
    "\n",
    "    # The reduce function iterates over all elements of a list/array and returns one value which is composed\n",
    "    # of an accumulated result of an operation performed through a passed in lambda function:\n",
    "    return reduce(\n",
    "        # The function to use to reduce our data set. The accumulator represents our aggregated result, while\n",
    "        # x represents the next element to process within our sequence:\n",
    "        lambda accumulator, next_element: [\n",
    "            dyadic_map( accumulator[0] ), accumulator[1] + convert_to_binary_string(accumulator[0])\n",
    "        ]\n",
    "        # The sequence of values to perform our reduce operation on\n",
    "        , range( precision )\n",
    "        # If an initial value is present, it is placed before the items of the sequence in the calculation, and serves\n",
    "        # as a default when the sequence is empty. Here, we start off with a 2 element array, with the first\n",
    "        # element representing our decimal number, and the 2nd element which holds our binary representation:\n",
    "        , [real_num, '']\n",
    "    ) [1] # Note that we return the 2nd element in our reduction, which holds our binary representation!\n",
    "\n",
    "def binary_to_decimal( binary_num ):\n",
    "\n",
    "    return reduce (\n",
    "        # Reduce function:\n",
    "        lambda accumulator, next_element:\n",
    "            accumulator + int(next_element[1]) / two_to_the_power_of(next_element[0] + 1)\n",
    "        \n",
    "        # Sequence: Iterate over the binary digits / representation\n",
    "        , enumerate( binary_num )\n",
    "        \n",
    "        # Initial: We initialize it to a real/floating point value of 0.0\n",
    "        , mp.mpf(0.0)\n",
    "    )\n",
    "\n",
    "# Finally, we can demo the encoding and decoding process and show the results:\n",
    "\n",
    "binary_representation = ''.join(map( decimal_to_binary, DATA ))\n",
    "\n",
    "print( 'BINARY REPRESENTATION: ' , str(binary_representation) )\n",
    "print_separator()\n",
    "\n",
    "decimal = binary_to_decimal( binary_representation )\n",
    "\n",
    "print( 'DECIMAL REPRESENTATION: ', str(decimal))\n",
    "print_separator()\n",
    "\n",
    "def dyadic_decoder( real_num, time_step, precision = PRECISION ):\n",
    "    return mod_one(\n",
    "        two_to_the_power_of( time_step * precision ) * real_num\n",
    "    )\n",
    "\n",
    "decoded_values = [\n",
    "    float( dyadic_decoder( real_num = decimal, time_step = time_idx ))\n",
    "    for time_idx\n",
    "    in range(NUM_DATA_POINTS)\n",
    "]\n",
    "\n",
    "print( \"DECODED VALUES: \", str( np.array( decoded_values ) ) )\n"
   ]
  },
  {
   "cell_type": "markdown",
   "metadata": {},
   "source": [
    "## Applying makeup to the scaffolding\n",
    "\n",
    "The paper refers to the above methodology of encoding and decoding information as 'bulding the scaffolding' for a reason: it feels like the decoding function leaves too much of the bare mechanics exposed! The paper also explains that the modulo arithmetic and bit shifting aren't a very elegant way of doing things. \n",
    "\n",
    "The purpose of the next section is to justify the more aesthetically pleasing formuation of our logistic function. The full function is shown once again below:"
   ]
  },
  {
   "cell_type": "code",
   "execution_count": 82,
   "metadata": {},
   "outputs": [],
   "source": [
    "from mpmath import sin, asin, sqrt\n",
    "\n",
    "def two_to_the_power_of( num ):\n",
    "    return 2 ** num\n",
    "\n",
    "def squared( num ):\n",
    "    return num ** 2\n",
    "\n",
    "def logistic_decoder ( \n",
    "    real_num\n",
    "    , x\n",
    "    , precision = 8\n",
    "):\n",
    "    return float( \n",
    "        squared( \n",
    "            sin( \n",
    "                two_to_the_power_of( x * precision ) * asin( sqrt( real_num ) )\n",
    "            )\n",
    "        ) \n",
    "    )"
   ]
  },
  {
   "cell_type": "markdown",
   "metadata": {},
   "source": [
    "To apply the new 'makeup' to our original transformations, we need to introduce two well-known concepts in the context of dynamical systems: \n",
    "\n",
    "1. The logistic map. \n",
    "2. The notion of topological conjugacy. "
   ]
  },
  {
   "cell_type": "markdown",
   "metadata": {},
   "source": [
    "## The Logistic Map\n",
    "\n",
    "This logistic map model is based on the common s-curve logistic function that shows how a population grows slowly, then rapidly, before tapering off as it reaches its carrying capacity. It’s called the logistic map because it maps the population value at any time step using the value from the previous step."
   ]
  },
  {
   "cell_type": "code",
   "execution_count": 83,
   "metadata": {},
   "outputs": [],
   "source": [
    "def logistic_equation(x, growth_factor):\n",
    "    return growth_factor * x * ( 1 - x )"
   ]
  },
  {
   "cell_type": "markdown",
   "metadata": {},
   "source": [
    "This equation defines the full rules and dynamics of our system: x represents the population at any given time t. It expresses the fact that the population level at any given time is a function of the growth rate parameter and the previous time step’s population level. If the growth rate is set to a low value, the population will die out and go extinct. Higher growth rates might settle toward a stable value or fluctuate across a series of population booms and busts.\n",
    "\n",
    "Graphically represented, this equation depicts a concave down parabola:"
   ]
  },
  {
   "cell_type": "code",
   "execution_count": 84,
   "metadata": {},
   "outputs": [
    {
     "data": {
      "image/png": "[encoded data removed]",
      "text/plain": [
       "<Figure size 432x288 with 1 Axes>"
      ]
     },
     "metadata": {
      "needs_background": "light"
     },
     "output_type": "display_data"
    }
   ],
   "source": [
    "import pylab\n",
    "import numpy\n",
    "\n",
    "def logistic_equation(x, growth_factor):\n",
    "    return growth_factor * x * ( 1 - x )\n",
    "\n",
    "GROWTH_RATE = 4\n",
    "coordinate_points = []\n",
    "x = 0.1\n",
    "\n",
    "# Do this 500 times\n",
    "for _ in range(500):\n",
    "    y = logistic_equation(x, GROWTH_RATE)\n",
    "    # Add the point (x, y) to our list of coordinates to graph\n",
    "    coordinate_points.append( [x, y] )\n",
    "    # We feed in our output value into our next input and repeat the same process\n",
    "    x = y\n",
    "\n",
    "# Convert the coordinate point list of lists into a 2D numpy array.\n",
    "coordinate_points = numpy.array(coordinate_points)\n",
    "\n",
    "# This draws a scatter plot of the (x, y) values\n",
    "def draw_scatterplot( coordinate_points ):\n",
    "    pylab.plot(coordinate_points[:,0], coordinate_points[:,1], '.')\n",
    "    pylab.show()\n",
    "\n",
    "draw_scatterplot( coordinate_points )"
   ]
  },
  {
   "cell_type": "markdown",
   "metadata": {},
   "source": [
    "So - what do logistic maps have to do with anything we discussed so far?\n",
    "\n",
    "## Topological Conjugacy\n",
    "\n",
    "Let's assume that we have input / data element from a sequence of values produced by the logistic map which can be linked to some real number variable:\n"
   ]
  },
  {
   "cell_type": "code",
   "execution_count": 85,
   "metadata": {},
   "outputs": [],
   "source": [
    "from mpmath import sin, pi\n",
    "\n",
    "def squared( num ):\n",
    "    return num ** 2\n",
    "\n",
    "def phi( real_num ):\n",
    "    return squared( \n",
    "        sin( 2 * pi * real_num ) \n",
    "    )"
   ]
  },
  {
   "cell_type": "markdown",
   "metadata": {},
   "source": [
    "We need to find a real_num parameter as an iteration of the dyadic transformation which we defined earlier (and which is once again provided below):"
   ]
  },
  {
   "cell_type": "code",
   "execution_count": 86,
   "metadata": {},
   "outputs": [],
   "source": [
    "def mod_one( num ):\n",
    "    return num % 1\n",
    "\n",
    "def dyadic_map( x ):\n",
    "    return mod_one(2 * x)"
   ]
  },
  {
   "cell_type": "markdown",
   "metadata": {},
   "source": [
    "For now, we'll continue to follow the evolution of our input data as perscribed by our logistic map. \n",
    "\n",
    "Using the newly introduced phi function, the value of the next iteration can be expressed as:"
   ]
  },
  {
   "cell_type": "code",
   "execution_count": 87,
   "metadata": {},
   "outputs": [],
   "source": [
    "from mpmath import sin, pi, almosteq\n",
    "from random import random\n",
    "mp.prec = 8\n",
    "\n",
    "def squared( num ):\n",
    "    return num ** 2\n",
    "\n",
    "def phi( real_num ):\n",
    "    return squared( sin( 2 * pi * real_num ) )\n",
    "\n",
    "CURRENT_ITER = random()\n",
    "next_iterate = 4 * phi(CURRENT_ITER) * (1 - phi(CURRENT_ITER))\n",
    "\n",
    "# The above can be simplified to:\n",
    "next_iterate_simple = phi( 2 * CURRENT_ITER )\n",
    "\n",
    "# Let's do an assertion to show that our simplification equates to our earlier logistic iterate\n",
    "assert almosteq( next_iterate, next_iterate_simple )"
   ]
  },
  {
   "cell_type": "markdown",
   "metadata": {},
   "source": [
    "Let's plot the above to show that our above map has a periodicity:"
   ]
  },
  {
   "cell_type": "code",
   "execution_count": 88,
   "metadata": {},
   "outputs": [
    {
     "data": {
      "image/png": "[encoded data removed]",
      "text/plain": [
       "<Figure size 432x288 with 1 Axes>"
      ]
     },
     "metadata": {
      "needs_background": "light"
     },
     "output_type": "display_data"
    }
   ],
   "source": [
    "import pylab\n",
    "import numpy as np\n",
    "from mpmath import sin, pi\n",
    "\n",
    "NUM_POINTS = 500\n",
    "\n",
    "def squared( num ):\n",
    "    return num ** 2\n",
    "\n",
    "def phi( x ):\n",
    "    return float( squared( sin( 2 * pi * x ) ) )\n",
    "\n",
    "coordinate_points = []\n",
    "x_values = np.linspace(0, 1, NUM_POINTS)\n",
    "\n",
    "for x in x_values:\n",
    "    y = phi( x )\n",
    "    coordinate_points.append( [x, y] )\n",
    "    \n",
    "coordinate_points = np.array(coordinate_points)\n",
    "\n",
    "def draw_scatterplot( coordinate_points ):\n",
    "    pylab.plot(coordinate_points[:,0], coordinate_points[:,1], '.')\n",
    "    pylab.show()\n",
    "\n",
    "draw_scatterplot( coordinate_points )"
   ]
  },
  {
   "cell_type": "markdown",
   "metadata": {},
   "source": [
    "Due to the above periodicity of the phi function, we can extract the below assertion / identity:"
   ]
  },
  {
   "cell_type": "code",
   "execution_count": 89,
   "metadata": {},
   "outputs": [
    {
     "name": "stdout",
     "output_type": "stream",
     "text": [
      "NEXT PHI ITERATE:  0.04\n",
      "PHI OF NEXT DYADIC ITERATE:  0.04\n"
     ]
    }
   ],
   "source": [
    "from mpmath import sin, pi, almosteq, mp\n",
    "from random import random\n",
    "\n",
    "PRECISION = 8\n",
    "mp.prec = PRECISION\n",
    "\n",
    "def squared( num ):\n",
    "    return num ** 2\n",
    "\n",
    "def mod_one( num ):\n",
    "    return num % 1\n",
    "\n",
    "def phi( real_num ):\n",
    "    return squared( sin( 2 * pi * real_num ) )\n",
    "\n",
    "def dyadic_map( x ):\n",
    "    return mod_one(2 * x)\n",
    "\n",
    "CURRENT_ITER = random()\n",
    "next_phi_iterate = phi( 2 * CURRENT_ITER )\n",
    "next_dyadic_iterate = dyadic_map( CURRENT_ITER )\n",
    "\n",
    "# Also, knowing that next_dyadic_map_iterate = dyadic_map( previous_iterate ), we can infer that:\n",
    "assert almosteq( next_phi_iterate, phi( next_dyadic_iterate) )\n",
    "\n",
    "print( 'NEXT PHI ITERATE: ', str( next_phi_iterate ))\n",
    "print( 'PHI OF NEXT DYADIC ITERATE: ', str( phi( next_dyadic_iterate) ) )\n"
   ]
  },
  {
   "attachments": {},
   "cell_type": "markdown",
   "metadata": {},
   "source": [
    "The above result is extraordinary!! \n",
    "\n",
    "It proves that although our logistic and combined phi and dyaduc map functions look like different recurrence relations, they're actually topological 'twins' that share identical dynamics!!\n",
    "\n",
    "With phi and inverse_phi acting as bridges between the two toplogical spaces, this behavior is known as topological conjugacy and can be summarized pictorally via the diagram below:\n",
    "\n",
    "<br>\n",
    "\n",
    "<img src=\"imgs\\topological-conjugation-illustration.jpg\" alt=\"topological-conjugation-illustration\" width=\"800\"/>"
   ]
  },
  {
   "cell_type": "markdown",
   "metadata": {},
   "source": [
    "In other words, one may decide to study the dynamics of a variable according to the logistic map and never leave\n",
    "this representation but, all the while, think about how these dynamics are equivalently represented in some kind of\n",
    "“parallel universe” where variables evolve according to the dyadic transformation up to a compositional “portal”\n",
    "in the form of phi.\n",
    "\n",
    "We're now going to exploit the above cojugacy to the encoding/decoding strategy we outlined in our previous sections and we're going to demo a new way of generating a parameter which represents our entire data set!"
   ]
  },
  {
   "attachments": {},
   "cell_type": "markdown",
   "metadata": {},
   "source": [
    "## Construction of the initial condition\n",
    "\n",
    "If you can recollect, in our previous examples, we approximated our data points using binary approximations as the first step in our algorithm. This time, we start with a pre-processing step of applying inverse-phi to all of the sample data prior to doing the conversion to our binary-representation, as illustrated below:\n",
    "\n",
    "<img src=\"imgs\\phi-binary-fixed-point-encoding-illustration.jpg\" alt=\"phi-binary-fixed-point-encoding-illustration\" width=\"900\" />"
   ]
  },
  {
   "attachments": {},
   "cell_type": "markdown",
   "metadata": {},
   "source": [
    "After the above step is performed, the results are concentated together into a long real-valued parameter which encodes our information by halving the state space during each iteration:\n",
    "\n",
    "<br>\n",
    "\n",
    "<img src=\"imgs\\phi-concatenation-illustration.jpg\" alt=\"phi-concatenation-illustration\"/>"
   ]
  },
  {
   "cell_type": "markdown",
   "metadata": {},
   "source": [
    "Having built our real number in the conjugate space, we can use our topological conjugacy to transport the initial condition back to the origina data domain by using our phi function as a 'portal' or bridge between the 2 spaces. "
   ]
  },
  {
   "cell_type": "markdown",
   "metadata": {},
   "source": [
    "## Decoding using the logistic map\n",
    "\n",
    "The paper walks us through a derivation of a logistic decoding function, which is once again provided below:"
   ]
  },
  {
   "cell_type": "code",
   "execution_count": 90,
   "metadata": {},
   "outputs": [],
   "source": [
    "from mpmath import sin, asin, sqrt\n",
    "\n",
    "def two_to_the_power_of( num ):\n",
    "    return 2 ** num\n",
    "\n",
    "def squared( num ):\n",
    "    return num ** 2\n",
    "\n",
    "def logistic_decoder ( \n",
    "    real_num\n",
    "    , x\n",
    "    , precision = 8\n",
    "):\n",
    "    return float( \n",
    "        squared( \n",
    "            sin( \n",
    "                two_to_the_power_of( x * precision ) * asin( sqrt( real_num ) )\n",
    "            )\n",
    "        ) \n",
    "    )"
   ]
  },
  {
   "cell_type": "markdown",
   "metadata": {},
   "source": [
    "The paper walks through the exact details in why the above conjugation and mapping work. We exclude this from our discussion, since the aim of this write-up is to briefly demo and provide a higher-level overview of the algorithm. \n",
    "\n",
    "Next, let's walk through another full example where we use the methodologies outlined in the previous sections to show that we can map any arbitrary amount of data to a single real-valued parameter:"
   ]
  },
  {
   "cell_type": "code",
   "execution_count": 91,
   "metadata": {},
   "outputs": [
    {
     "name": "stdout",
     "output_type": "stream",
     "text": [
      "DATA:  [0.37454012 0.95071431 0.73199394 0.59865848 0.15601864 0.15599452\n",
      " 0.05808361 0.86617615 0.60111501 0.70807258 0.02058449 0.96990985\n",
      " 0.83244264 0.21233911 0.18182497 0.18340451 0.30424224 0.52475643\n",
      " 0.43194502 0.29122914 0.61185289 0.13949386 0.29214465 0.36636184\n",
      " 0.45606998 0.78517596 0.19967378 0.51423444 0.59241457 0.04645041\n",
      " 0.60754485 0.17052412 0.06505159 0.94888554 0.96563203 0.80839735\n",
      " 0.30461377 0.09767211 0.68423303 0.44015249 0.12203823 0.49517691\n",
      " 0.03438852 0.9093204  0.25877998 0.66252228 0.31171108 0.52006802\n",
      " 0.54671028 0.18485446 0.96958463 0.77513282 0.93949894 0.89482735\n",
      " 0.59789998 0.92187424 0.0884925  0.19598286 0.04522729 0.32533033\n",
      " 0.38867729 0.27134903 0.82873751 0.35675333 0.28093451 0.54269608\n",
      " 0.14092422 0.80219698 0.07455064 0.98688694 0.77224477 0.19871568\n",
      " 0.00552212 0.81546143 0.70685734 0.72900717 0.77127035 0.07404465\n",
      " 0.35846573 0.11586906 0.86310343 0.62329813 0.33089802 0.06355835\n",
      " 0.31098232 0.32518332 0.72960618 0.63755747 0.88721274 0.47221493\n",
      " 0.11959425 0.71324479 0.76078505 0.5612772  0.77096718 0.4937956\n",
      " 0.52273283 0.42754102 0.02541913 0.10789143]\n",
      "------------------------------------------------------------------------------------------------------------------------\n",
      "BINARY CONJUGATE:  0001101011001101101100101001110010010000000100001000010000100000100111001100001000100100000010100010000001011100111000110010111011000100111000010001110001001000000101111100100001000001110100000101110000100100100000111110000101110100011010010001111000001011000100010010110010000010001000111100001000110010010001000100010100001010100011011010001110000100101101100001011111000011001100100111100001110110000011101000011111110000011110001100111000010101100010011010000110000000100000110010000111000100100000111000110010101111001101011100110010100010010000001101000100001100010001001010000010001000011000100001101101000101100100101110100001101000000101101100100001100000111110001011010000001011010011101101001010111000010010110000001100001011011100101000100010100110001010111000001011000001101000000011100000110000100010010100000110001100001010010001100000000110001000101001100010010110001100100000011110110000111001001010001100101011000010001010001010111000011111100010000011000111010000000110100000110110\n",
      "------------------------------------------------------------------------------------------------------------------------\n",
      "DECIMAL CONJUGATE:  0.104701197837188843644983565566574105322242967661764170629975934091229235868094272901086286741339968754939553044532424503937523031022649893615429253947300163944302500390370934587190260097986115068573479131730001389706553762780000055475915753040753486101390741305620122320659178205872087138432362805159\n",
      "------------------------------------------------------------------------------------------------------------------------\n",
      "DECIMAL:  0.373837490793555690440779026362070145418662554698570628521363858269475428542132606135355000066507906764082644318700590812779090925841614171057355053139988408523217596353241555663520245107263519472858382306647590294957335665740032890531543033195260725074653062288226786909869184908273132171036084734016\n",
      "------------------------------------------------------------------------------------------------------------------------\n",
      "DECODED VALUES:  [0.37383749 0.94977562 0.73103527 0.59793339 0.15551643 0.15539984\n",
      " 0.05671714 0.86271863 0.59849718 0.70274786 0.02016567 0.9690589\n",
      " 0.83155819 0.21244419 0.17841489 0.1832442  0.30373183 0.5252286\n",
      " 0.42718096 0.28701396 0.60991361 0.13826137 0.29235805 0.3614319\n",
      " 0.45204747 0.783237   0.19786545 0.51312742 0.59172695 0.04577868\n",
      " 0.60396039 0.16898164 0.0656025  0.94721718 0.96465709 0.8080646\n",
      " 0.30328575 0.09532714 0.68060735 0.43914034 0.12189319 0.49404519\n",
      " 0.03394945 0.90908943 0.25435472 0.6573877  0.30938446 0.5192124\n",
      " 0.54332981 0.18385678 0.96903427 0.77374247 0.93861781 0.89470424\n",
      " 0.59877342 0.91927263 0.08795648 0.19254529 0.04313367 0.3206625\n",
      " 0.38499094 0.27072106 0.82705845 0.3553803  0.28141407 0.53715383\n",
      " 0.13862121 0.7980673  0.07506964 0.98670993 0.76787845 0.19730256\n",
      " 0.00557397 0.81318779 0.70353054 0.72573671 0.76772204 0.07145658\n",
      " 0.35517989 0.11423383 0.86273488 0.62206568 0.32602149 0.06224289\n",
      " 0.30920184 0.3209817  0.72560919 0.6345117  0.88697259 0.4696815\n",
      " 0.11804659 0.7091521  0.75776116 0.56224072 0.76813702 0.48851481\n",
      " 0.51909836 0.42678919 0.02533756 0.10593523]\n"
     ]
    }
   ],
   "source": [
    "from functools import reduce\n",
    "from mpmath import mp, power, sin, pi, asin, sqrt\n",
    "import numpy as np\n",
    "\n",
    "PRECISION = 10\n",
    "\n",
    "# Seed value:\n",
    "SEED = 42\n",
    "np.random.seed(SEED)\n",
    "\n",
    "def print_separator(num_dashes=120):\n",
    "    print('-' * num_dashes)\n",
    "\n",
    "# First, let's create a dataset composed of random data points:\n",
    "NUM_DATA_POINTS = 100\n",
    "DATA = np.random.uniform(0, 1, NUM_DATA_POINTS)\n",
    "\n",
    "# Mpmath uses a global working precision. We calculate the global precision value we need and set it accordingly.\n",
    "MP_PRECISION = NUM_DATA_POINTS * PRECISION\n",
    "mp.prec = MP_PRECISION\n",
    "\n",
    "print(\"DATA: \", str(DATA))\n",
    "print_separator()\n",
    "\n",
    "# Functions which we're going to use to encode and decode our data:\n",
    "\n",
    "def squared( num ):\n",
    "    return num ** 2\n",
    "\n",
    "def phi( real_num ):\n",
    "    return squared( sin( 2 * pi * real_num ) )\n",
    "\n",
    "def inverse_phi( real_num ):\n",
    "    return asin( sqrt( real_num )) / (2 * np.pi)\n",
    "\n",
    "def mod_one( num ):\n",
    "    return num % 1\n",
    "\n",
    "def dyadic_map( x ):\n",
    "    return mod_one(2 * x)\n",
    "\n",
    "def two_to_the_power_of(num):\n",
    "    return power(2, num)\n",
    "\n",
    "def decimal_to_binary( real_num, precision = PRECISION):\n",
    "\n",
    "    def convert_to_binary_string(num):\n",
    "        return '0' if num < 0.5 else '1'\n",
    "\n",
    "    return reduce(\n",
    "        # The function to use to reduce our data set. The accumulator represents our aggregated result, while\n",
    "        # x represents the next element to process within our sequence:\n",
    "        lambda accumulator, next_element: [\n",
    "            dyadic_map( accumulator[0] ), accumulator[1] + convert_to_binary_string(accumulator[0])\n",
    "        ]\n",
    "        # The sequence of values to perform our reduce operation on\n",
    "        , range( precision )\n",
    "        # If an initial value is present, it is placed before the items of the sequence in the calculation, and serves\n",
    "        # as a default when the sequence is empty. Here, we start off with a 2 element array, with the first\n",
    "        # element representing our decimal number, and the 2nd element which holds our binary representation:\n",
    "        , [real_num, '']\n",
    "    ) [1] # Note that we return the 2nd element in our reduction, which holds our binary representation!\n",
    "\n",
    "def binary_to_decimal( binary_num ):\n",
    "\n",
    "    return reduce (\n",
    "        # Function\n",
    "        lambda accumulator, next_element:\n",
    "            accumulator + int(next_element[1]) / two_to_the_power_of(next_element[0] + 1)\n",
    "        # Sequence: Iterate over the binary digits / representation\n",
    "        , enumerate( binary_num )\n",
    "        # Initial: We initialize it to a real/floating point value of 0.0\n",
    "        , mp.mpf(0.0)\n",
    "    )\n",
    "\n",
    "def binary_conjugate( data ):\n",
    "    decimal_to_binary_phi_inverse = lambda z : decimal_to_binary( inverse_phi( z ), PRECISION )\n",
    "    return ''.join( map( decimal_to_binary_phi_inverse, data) )\n",
    "\n",
    "# Finally, we can demo the encoding and decoding process and show the results:\n",
    "\n",
    "binary_conjugate_str = binary_conjugate( DATA )\n",
    "\n",
    "print( 'BINARY CONJUGATE: ' , binary_conjugate_str )\n",
    "print_separator()\n",
    "\n",
    "decimal_conjugate = binary_to_decimal( binary_conjugate_str )\n",
    "\n",
    "print( 'DECIMAL CONJUGATE: ' , decimal_conjugate )\n",
    "print_separator()\n",
    "\n",
    "decimal = phi( decimal_conjugate )\n",
    "\n",
    "print( 'DECIMAL: ' , str(decimal) )\n",
    "print_separator()\n",
    "\n",
    "def logistic_decoder (\n",
    "    real_num\n",
    "    , time_step\n",
    "    , precision = PRECISION\n",
    "):\n",
    "    return float(\n",
    "        squared(\n",
    "            sin(\n",
    "                two_to_the_power_of( time_step * precision ) * asin( sqrt( real_num ) )\n",
    "            )\n",
    "        )\n",
    "    )\n",
    "\n",
    "decoded_values = [\n",
    "    float( logistic_decoder( real_num = decimal, time_step = time_idx) )\n",
    "    for time_idx\n",
    "    in range(NUM_DATA_POINTS)\n",
    "]\n",
    "\n",
    "print( \"DECODED VALUES: \", str( np.array( decoded_values ) ) )\n"
   ]
  },
  {
   "cell_type": "markdown",
   "metadata": {},
   "source": [
    "## Data science perspective: what about generalization?\n",
    "\n",
    "So, what does this mean in terms of machine learning?\n",
    "\n",
    "The paper goes on the explain that the real number we construct from our data isn't really 'learned' per say. The above algorithm simply builds a decimal value through a very neat encoding mechanism and thus does not generalize. In other words, our methodology above simply creates a compact representation of our training data!\n",
    "\n",
    "Still, the paper does present a great way of compactly 'compressing' data in a mathematically beautiful way, so kudos to the author and his collaborators on bringing these algorithms and encoding/decoding techniques to light!\n",
    "\n",
    "Full credit for the images and algorithm info go to the original author of the paper 'Real numbers, data science and chaos: How to fit any dataset with a single parameter.' [Laurent Boue](https://github.com/Ranlot)\n",
    "\n",
    "A lot more info can be found in the original paper, as well as the Github repository which contains many more examples and code, so I urge any interested readers to explore further! \n",
    "\n",
    "The info used in compiling the above paper summary are provided below:\n",
    "\n",
    "Great link explaining arithmetic coding:\n",
    "\n",
    "- [Arithmetic Coding Explained](https://github.com/leandromoreira/digital_video_introduction#arithmetic-coding)\n",
    "\n",
    "Paper code and info:\n",
    "\n",
    "- [Arxiv Link](https://arxiv.org/abs/1904.12320)\n",
    "- [PDF Link](https://arxiv.org/pdf/1904.12320.pdf)\n",
    "- [Github Repo](https://github.com/Ranlot/single-parameter-fit)\n"
   ]
  }
 ],
 "metadata": {
  "kernelspec": {
   "display_name": "Python 3",
   "language": "python",
   "name": "python3"
  },
  "language_info": {
   "codemirror_mode": {
    "name": "ipython",
    "version": 3
   },
   "file_extension": ".py",
   "mimetype": "text/x-python",
   "name": "python",
   "nbconvert_exporter": "python",
   "pygments_lexer": "ipython3",
   "version": "3.8.0"
  }
 },
 "nbformat": 4,
 "nbformat_minor": 4
}
